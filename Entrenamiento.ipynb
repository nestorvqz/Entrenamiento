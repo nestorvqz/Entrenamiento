{
 "cells": [
  {
   "cell_type": "markdown",
   "metadata": {},
   "source": [
    "# https://www.testdome.com/tests/python-online-test/45"
   ]
  },
  {
   "cell_type": "code",
   "execution_count": null,
   "metadata": {},
   "outputs": [],
   "source": [
    "# Student Majors\n",
    "# A university's Office of Admission keeps track of student majors. Each student can have a single major. \n",
    "# Below is an example of how their system stores students, majors, and how it manipulates them:\n",
    "students = [(\"Allen Anderson\", \"Computer Science\"),\n",
    "            (\"Edgar Einstein\", \"Engineering\"),\n",
    "            (\"Farrah Finn\", \"Fine Arts\")]\n",
    "     \n",
    "def add_new_student(students, name, major):\n",
    "    students.append((name, major))\n",
    "\n",
    "def update_student(students, index, name, major):\n",
    "    students[index] = (name, major)\n",
    "\n",
    "def find_students_by_name(students, name):\n",
    "    return [student for student in students if name in student[0]]\n",
    "\n",
    "def get_all_majors(students):\n",
    "    return [student[1] for student in students]\n",
    "\n",
    "#What can be concluded from the code snippet above? (Select all acceptable answers.)\n",
    "# In the update_student function, the '(' and ')' parentheses can be removed without causing any errors.\n",
    "# Calling find_students_by_name(students, 'in') returns a list of 2 tuples.\n",
    "# The add_new_student function can be rewritten as seen below and still maintain identical functionality: students[len(students)] = (name, major)\n",
    "# Calling get_all_majors(students) returns a list of 3 tuples.\n",
    "# #The add_new_student function adds a new student in the last place in the list.\n",
    "# The name of the first student in the array can be set to the new_name variable, like students[0][0] = new_name\n",
    "# 110010"
   ]
  },
  {
   "cell_type": "code",
   "execution_count": 5,
   "metadata": {},
   "outputs": [
    {
     "name": "stdout",
     "output_type": "stream",
     "text": [
      "{'Randy': ['Input.txt', 'Output.txt'], 'Stan': ['Code.py']}\n"
     ]
    }
   ],
   "source": [
    "# 2 Files Owner\n",
    "# For example, for dictionary {'Input.txt': 'Randy', 'Code.py': 'Stan', 'Output.txt': 'Randy'} \n",
    "# the group_by_owners function should return {'Randy': ['Input.txt', 'Output.txt'], 'Stan': ['Code.py']}.\n",
    "\n",
    "def group_by_owners(files):\n",
    "# -------------------------------------------------------\n",
    "    newdict={}\n",
    "    for file,owner in files.items():\n",
    "        if owner not in newdict:  # creo la lista para onwe si no existe\n",
    "            newdict[owner]=[]\n",
    "        newdict[owner].append(file)\n",
    "    return newdict\n",
    "# -------------------------------------------------------\n",
    "if __name__ == \"__main__\":    \n",
    "    files = {\n",
    "        'Input.txt': 'Randy',\n",
    "        'Code.py': 'Stan',\n",
    "        'Output.txt': 'Randy'\n",
    "    }   \n",
    "    print(group_by_owners(files))"
   ]
  },
  {
   "cell_type": "code",
   "execution_count": 189,
   "metadata": {},
   "outputs": [
    {
     "name": "stdout",
     "output_type": "stream",
     "text": [
      "[['vanilla', 'chocolate sauce'], ['vanilla', 'kk'], ['vanilla', 'top2'], ['chocolate', 'chocolate sauce'], ['chocolate', 'kk'], ['chocolate', 'top2']]\n"
     ]
    }
   ],
   "source": [
    "# 3 IceCreamMachine\n",
    "# Implement the IceCreamMachine's scoops method so that it returns all combinations of one ingredient and one topping. \n",
    "# If there are no ingredients or toppings, the method should return an empty list.\n",
    "\n",
    "#For example, IceCreamMachine([\"vanilla\", \"chocolate\"], [\"chocolate sauce\"]).scoops() \n",
    "# should return [['vanilla', 'chocolate sauce'], ['chocolate', 'chocolate sauce']].\n",
    "\n",
    "class IceCreamMachine:\n",
    "    \n",
    "    def __init__(self, ingredients=[], toppings=[]):\n",
    "        self.ingredients = ingredients\n",
    "        self.toppings = toppings\n",
    "        \n",
    "    def scoops(self):\n",
    "    # -------------------------------------------------------\n",
    "    milist=[]\n",
    "        misublist=[]\n",
    "       \n",
    "        for a in self.ingredients:  \n",
    "            for b in self.toppings:\n",
    "                misublist=[]\n",
    "                misublist.append(a)\n",
    "                misublist.append(b)\n",
    "                milist.append(misublist)\n",
    "        return milist\n",
    "\n",
    "if __name__ == \"__main__\":\n",
    "    machine = IceCreamMachine([\"vanilla\", \"chocolate\"], [\"chocolate sauce\",\"kk\",\"top2\"])\n",
    "    #machine = IceCreamMachine()\n",
    "    print(machine.scoops()) #should print: [['vanilla', 'chocolate sauce'], ['chocolate', 'chocolate sauce']]"
   ]
  },
  {
   "cell_type": "code",
   "execution_count": 159,
   "metadata": {},
   "outputs": [
    {
     "name": "stdout",
     "output_type": "stream",
     "text": [
      "{'Randy': ['Input.txt', 'Output.txt'], 'Stan': ['Code.py']}\n"
     ]
    }
   ],
   "source": [
    "# File Owners\n",
    "# Implement a group_by_owners function that:\n",
    "# Accepts a dictionary containing the file owner name for each file name.\n",
    "# Returns a dictionary containing a list of file names for each owner name, in any order.\n",
    "# For example, for dictionary {'Input.txt': 'Randy', 'Code.py': 'Stan', 'Output.txt': 'Randy'} \n",
    "# the group_by_owners function should return {'Randy': ['Input.txt', 'Output.txt'], 'Stan': ['Code.py']}.\n",
    "def group_by_owners(files):\n",
    "    dct={}\n",
    "    for file,owner in files.items():\n",
    "        if owner not in dct:\n",
    "            dct[owner]=[]\n",
    "        dct[owner].append(file)\n",
    "    return dct\n",
    "if __name__ == \"__main__\":    \n",
    "    files = {\n",
    "        'Input.txt': 'Randy',\n",
    "        'Code.py': 'Stan',\n",
    "        'Output.txt': 'Randy'\n",
    "    }   \n",
    "    print(group_by_owners(files))"
   ]
  },
  {
   "cell_type": "code",
   "execution_count": 8,
   "metadata": {},
   "outputs": [
    {
     "name": "stdout",
     "output_type": "stream",
     "text": [
      "['Sophia', 'Olivia', 'Emma', 'Ava']\n"
     ]
    }
   ],
   "source": [
    "\n",
    "# 4 #Merge Names\n",
    "# Implement the unique_names method. When passed two lists of names, \n",
    "# it will return a list containing the names that appear in either or both lists. \n",
    "# The returned list should have no duplicates.\n",
    "\n",
    "#For example, calling unique_names(['Ava', 'Emma', 'Olivia'], ['Olivia', 'Sophia', 'Emma']) should return a list containing Ava, Emma, Olivia, and Sophia in any order.\n",
    "\n",
    "def unique_names(names1, names2):\n",
    "    unique_set= set()\n",
    "    for name in names1:unique_set.add(name)\n",
    "    for name in names2:unique_set.add(name)\n",
    "    return list(unique_set)\n",
    "\n",
    "if __name__ == \"__main__\":\n",
    "    names1 = [\"Ava\", \"Emma\", \"Olivia\"]\n",
    "    names2 = [\"Olivia\", \"Sophia\", \"Emma\"]\n",
    "    print(unique_names(names1, names2)) # should print Ava, Emma, Olivia, Sophia\n"
   ]
  },
  {
   "cell_type": "code",
   "execution_count": 23,
   "metadata": {},
   "outputs": [
    {
     "name": "stdout",
     "output_type": "stream",
     "text": [
      "(-1.0, -4.0)\n"
     ]
    }
   ],
   "source": [
    "# 5 Quadratic Equation\n",
    "# Implement the function find_roots to find the roots of the quadratic equation: ax2 + bx + c = 0. \n",
    "# The function should return a tuple containing roots in any order. \n",
    "# If the equation has only one solution, the function should return that solution as both elements of the tuple. \n",
    "# The equation will always have at least one solution.\n",
    "# The roots of the quadratic equation can be found with the following formula: A quadratic equation.\n",
    "# For example, find_roots(2, 10, 8) should return (-1, -4) or (-4, -1) \n",
    "# as the roots of the equation 2x2 + 10x + 8 = 0 are -1 and -4.\n",
    "def find_roots(a, b, c):\n",
    "    x1= (-b+pow(b*b -4*a*c,0.5))/(2*a)\n",
    "    x2= (-b-pow(b*b -4*a*c,0.5))/(2*a)\n",
    "    return  x1, x2\n",
    "\n",
    "print(find_roots(2, 10, 8));"
   ]
  },
  {
   "cell_type": "code",
   "execution_count": 23,
   "metadata": {},
   "outputs": [
    {
     "name": "stdout",
     "output_type": "stream",
     "text": [
      "20\n",
      "30.5\n"
     ]
    }
   ],
   "source": [
    "\n",
    "# 6 of 7\n",
    "# Pipeline\n",
    "# As part of a data processing pipeline, complete the implementation of the pipeline method:\n",
    "\n",
    "# The method should accept a variable number of functions, and it should return a new function that accepts one parameter arg.\n",
    "# The returned function should call the first function in the pipeline with the parameter arg, and call the second function with the result of the first function.\n",
    "# The returned function should continue calling each function in the pipeline in order, following the same pattern, and return the value from the last function.\n",
    "# For example, pipeline(lambda x: x * 3, lambda x: x + 1, lambda x: x / 2) then calling the returned function with 3 should return 5.0.\n",
    "\n",
    "def pipeline(*funcs):\n",
    "    def helper(arg1):\n",
    "        print(arg1)\n",
    "        for element in funcs:\n",
    "            arg1=element(arg1)     \n",
    "        return arg1\n",
    "    return helper\n",
    "           \n",
    "fun = pipeline(lambda x: x * 3, lambda x: x + 1, lambda x: x / 2)\n",
    "print(fun(20)) #should print 5.0\n",
    "\n"
   ]
  },
  {
   "cell_type": "code",
   "execution_count": 156,
   "metadata": {},
   "outputs": [
    {
     "name": "stdout",
     "output_type": "stream",
     "text": [
      "OrderedDict([('Mike', Counter({'score': 5, 'games_played': 2})), ('jon', Counter()), ('Chris', Counter({'score': 5, 'games_played': 1})), ('Arnold', Counter({'score': 5, 'games_played': 1}))])\n",
      "[[5, 1, 3, 'Chris'], [5, 1, 4, 'Arnold'], [5, 2, 1, 'Mike'], [0, 0, 2, 'jon']]\n",
      "Chris\n"
     ]
    }
   ],
   "source": [
    "\n",
    "# 7 of 7\n",
    "# League Table\n",
    "# # Tags Python Collections SortingPublicHard\n",
    "# The LeagueTable class tracks the score of each player in a league. After each game, the player records their score with the record_result function. \n",
    "\n",
    "# The player's rank in the league is calculated using the following logic:\n",
    "# The player with the highest score is ranked first (rank 1). The player with the lowest score is ranked last.\n",
    "# If two players are tied on score, then the player who has played the fewest games is ranked higher.\n",
    "# If two players are tied on score and number of games played, then the player who was first in the list of players is ranked higher.\n",
    "# Implement the player_rank function that returns the player at the given rank.\n",
    "\n",
    "# For example:\n",
    "# table = LeagueTable(['Mike', 'Chris', 'Arnold'])\n",
    "# table.record_result('Mike', 2)\n",
    "# table.record_result('Mike', 3)\n",
    "# table.record_result('Arnold', 5)\n",
    "# table.record_result('Chris', 5)\n",
    "# print(table.player_rank(1))\n",
    "# All players have the same score. However, Arnold and Chris have played fewer games than Mike, \n",
    "# and as Chris is before Arnold in the list of players, he is ranked first. Therefore, the code above should display \"Chris\".\n",
    "\n",
    "from collections import Counter\n",
    "from collections import OrderedDict\n",
    "\n",
    "class LeagueTable:\n",
    "    def __init__(self, players):\n",
    "        self.standings = OrderedDict([(player, Counter()) for player in players])\n",
    "       \n",
    "    def record_result(self, player, score):\n",
    "        self.standings[player]['games_played'] += 1\n",
    "        self.standings[player]['score'] += score\n",
    "      \n",
    "    def player_rank(self, rank):\n",
    "\n",
    "        lista=list()\n",
    "        cnt=0\n",
    "        for a in self.standings:\n",
    "            cnt=cnt+1\n",
    "            lista.append([10-self.standings[a]['score'],self.standings[a]['games_played'],cnt,a])\n",
    "        print(self.standings)\n",
    "        lista.sort()\n",
    "        for a in range(len(lista)):\n",
    "            lista[a][0]=10-lista[a][0]\n",
    "        print(lista)\n",
    "        return lista[rank-1][3]\n",
    "\n",
    "if __name__ == \"__main__\":\n",
    "    table = LeagueTable(['Mike', 'jon','Chris', 'Arnold'])\n",
    "    table.record_result('Mike', 2)\n",
    "    table.record_result('Mike', 3)\n",
    "    table.record_result('Arnold', 5)\n",
    "    table.record_result('Chris', 5)\n",
    "    print(table.player_rank(1))\n"
   ]
  }
 ],
 "metadata": {
  "kernelspec": {
   "display_name": "Python 3.9.7 ('base')",
   "language": "python",
   "name": "python3"
  },
  "language_info": {
   "codemirror_mode": {
    "name": "ipython",
    "version": 3
   },
   "file_extension": ".py",
   "mimetype": "text/x-python",
   "name": "python",
   "nbconvert_exporter": "python",
   "pygments_lexer": "ipython3",
   "version": "3.9.7"
  },
  "orig_nbformat": 4,
  "vscode": {
   "interpreter": {
    "hash": "24bd6489609d93e9e182ffbab25bef339de7bd18a9625d01b9c86c75dd7c3b48"
   }
  }
 },
 "nbformat": 4,
 "nbformat_minor": 2
}
